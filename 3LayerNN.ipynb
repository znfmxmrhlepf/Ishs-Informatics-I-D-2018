{
 "cells": [
  {
   "cell_type": "markdown",
   "metadata": {},
   "source": [
    "3층 신경망\n",
    "2 | 3 | 2 | 2\n"
   ]
  },
  {
   "cell_type": "code",
   "execution_count": 21,
   "metadata": {},
   "outputs": [],
   "source": [
    "import numpy as np\n",
    "\n",
    "def sigmoid(x):\n",
    "    return 1 / (1 + np.exp(-x))\n",
    "\n",
    "def softmax(x):\n",
    "    x_ = x - np.max(x)\n",
    "    sum_x = np.sum(np.exp(x_)) #Overflow 방지\n",
    "    return np.exp(x_)/sum_x\n",
    "\n",
    "def identity(x):\n",
    "    return x\n",
    "\n",
    "def init_network():\n",
    "    network = {} #신경망 가중치 담을 딕셔너리\n",
    "    # W[i][j] : 전 레이어 i에서 다음 레이어의 \n",
    "    network['W1'] = np.array([[0.1, 0.3, 0.5], [0.2, 0.4, 0.6]]) # 2 x 3\n",
    "    network['b1'] = np.array([0.1, 0.2, 0.3])\n",
    "    network['W2'] = np.array([[0.1, 0.4], [0.2, 0.5], [0.3, 0.6]])\n",
    "    network['b2'] = np.array([0.1, 0.2])\n",
    "    network['W3'] = np.array([[0.1, 0.3], [0.2, 0.4]])\n",
    "    network['b3'] = np.array([0.1, 0.2])\n",
    "    \n",
    "    return network\n",
    "\n",
    "def forward(network, x, f):\n",
    "    W1, W2, W3 = network['W1'], network['W2'], network['W3']\n",
    "    b1, b2, b3 = network['b1'], network['b2'], network['b3']\n",
    "    \n",
    "    a1 = np.dot(x, W1) + b1\n",
    "    a2 = np.dot(sigmoid(a1), W2) + b2\n",
    "    a3 = np.dot(sigmoid(a2), W3) + b3\n",
    "    y = f(a3)\n",
    "    \n",
    "    return y"
   ]
  },
  {
   "cell_type": "code",
   "execution_count": 22,
   "metadata": {},
   "outputs": [
    {
     "name": "stdout",
     "output_type": "stream",
     "text": [
      "[0.31682708 0.69627909] \n",
      " [0.40625907 0.59374093]\n",
      "[0.40625907 0.59374093]\n"
     ]
    }
   ],
   "source": [
    "x = np.array([1.0, 0.5])\n",
    "y = forward(init_network(), x, identity)\n",
    "print(y,'\\n', softmax(y))\n",
    "print(forward(init_network(), x, softmax))\n",
    "\n",
    "\n"
   ]
  },
  {
   "cell_type": "code",
   "execution_count": null,
   "metadata": {},
   "outputs": [],
   "source": []
  }
 ],
 "metadata": {
  "kernelspec": {
   "display_name": "Python 3",
   "language": "python",
   "name": "python3"
  },
  "language_info": {
   "codemirror_mode": {
    "name": "ipython",
    "version": 3
   },
   "file_extension": ".py",
   "mimetype": "text/x-python",
   "name": "python",
   "nbconvert_exporter": "python",
   "pygments_lexer": "ipython3",
   "version": "3.6.5"
  }
 },
 "nbformat": 4,
 "nbformat_minor": 2
}

{
 "cells": [
  {
   "cell_type": "code",
   "execution_count": 1,
   "metadata": {},
   "outputs": [],
   "source": [
    "import tensorflow as tf\n",
    "import numpy as np\n",
    "import cv2\n",
    "import glob\n",
    "import random"
   ]
  },
  {
   "cell_type": "code",
   "execution_count": 2,
   "metadata": {},
   "outputs": [],
   "source": [
    "paths_train_t = glob.glob('/home/haneul/Crosswalk_Image/train/img/t*.jpg')\n",
    "paths_train_f = glob.glob('/home/haneul/Crosswalk_Image/train/img/f*.jpg')\n",
    "paths_test = glob.glob('/home/haneul/Crosswalk_Image/test/img/*.jpg')"
   ]
  },
  {
   "cell_type": "code",
   "execution_count": 3,
   "metadata": {},
   "outputs": [],
   "source": [
    "def batch(t, size):\n",
    "    paths = []\n",
    "    \n",
    "    if t == 'train':\n",
    "        paths_t = random.sample(paths_train_t, size)\n",
    "        paths_f = random.sample(paths_train_f, size)\n",
    "        paths = random.sample(paths_t + paths_f, size)\n",
    "        \n",
    "    elif t == 'test':\n",
    "        paths = random.sample(paths_train, size)\n",
    "        \n",
    "    retx, rety = [], []\n",
    "    \n",
    "    l = len(t)\n",
    "    \n",
    "    for path in paths:\n",
    "        img = cv2.resize(cv2.imread(path), (300, 300), interpolation=cv2.INTER_AREA)\n",
    "        retx.append(img.flatten().tolist())\n",
    "        rety.append([int(path[34+l:35+l]=='t')])\n",
    "    \n",
    "    retx, rety = np.array(retx), np.array(rety)\n",
    "    \n",
    "    return retx, rety"
   ]
  },
  {
   "cell_type": "code",
   "execution_count": 4,
   "metadata": {},
   "outputs": [],
   "source": [
    "num_filters1 = 64\n",
    "num_filters2 = 128\n",
    "\n",
    "x = tf.placeholder(tf.float32, [None, 300*300*3])\n",
    "x_image = tf.reshape(x, [-1, 300, 300, 3])\n",
    "\n"
   ]
  },
  {
   "cell_type": "code",
   "execution_count": 5,
   "metadata": {},
   "outputs": [],
   "source": [
    "with tf.variable_scope('conv1') as scope:\n",
    "    W_conv1 = tf.Variable(tf.truncated_normal([38, 38, 3, num_filters1], stddev=0.001))\n",
    "\n",
    "    h_conv1 = tf.nn.conv2d(x_image, W_conv1, strides=[1,1,1,1], padding='SAME')\n",
    "\n",
    "    b_conv1 = tf.Variable(tf.constant(0.1, shape = [num_filters1]))\n",
    "    h_conv1_cutoff = tf.nn.relu(h_conv1 + b_conv1)\n",
    "\n",
    "h_pool1 = tf.nn.max_pool(h_conv1_cutoff, ksize=[1,3,3,1], strides=[1,2,2,1], padding='SAME', name='pool1')\n",
    "norm1 = tf.nn.lrn(h_pool1, 4, bias=1.0, alpha=0.001 / 9.0, beta=0.75, name='norm1')\n",
    "\n",
    "with tf.variable_scope('conv2') as scope:\n",
    "    W_conv2 = tf.Variable(tf.truncated_normal([14, 14, num_filters1, num_filters2], stddev=0.001))\n",
    "    \n",
    "    h_conv2 = tf.nn.conv2d(norm1, W_conv2, strides=[1,1,1,1], padding='SAME')\n",
    "    \n",
    "    b_conv2 = tf.Variable(tf.constant(0.1, shape=[num_filters2]))\n",
    "    h_conv2_cutoff = tf.nn.relu(h_conv2 + b_conv2)\n",
    "    \n",
    "norm2 = tf.nn.lrn(h_conv2_cutoff, 4, bias=1.0, alpha=0.001 / 9.0, beta=0.75, name='norm2')\n",
    "h_pool2 = tf.nn.max_pool(norm2, ksize=[1,3,3,1], strides=[1,2,2,1], padding='SAME', name='pool2')\n",
    "\n",
    "h_pool2_flat = tf.reshape(h_pool2, [-1, 16*16*num_filters2])\n",
    "\n",
    "num_units1 = 16*16*num_filters2\n",
    "num_units2 = 1024\n",
    "\n",
    "w2 = tf.Variable(tf.truncated_normal([num_units1, num_units2]))\n",
    "b2 = tf.Variable(tf.constant(0.1, shape=[num_units2]))\n",
    "hidden2 = tf.nn.relu(tf.matmul(h_pool2_flat, w2) + b2)\n",
    "\n",
    "keep_prob = tf.placeholder(tf.float32)\n",
    "hidden2_drop = tf.nn.dropout(hidden2, keep_prob)\n",
    "\n",
    "w0 = tf.Variable(tf.zeros([num_units2, 2]))\n",
    "b0 = tf.Variable(tf.zeros([2]))\n",
    "p = tf.nn.softmax(tf.matmul(hidden2_drop, w0) + b0)"
   ]
  },
  {
   "cell_type": "code",
   "execution_count": 6,
   "metadata": {},
   "outputs": [],
   "source": [
    "t = tf.placeholder(tf.float32, [None, 1])\n",
    "loss = -tf.reduce_sum(t * tf.log(p))\n",
    "train_step = tf.train.AdamOptimizer(0.0001).minimize(loss)\n",
    "correct_prediction = tf.equal(tf.argmax(p, 1), tf.argmax(t, 1))\n",
    "accuracy = tf.reduce_mean(tf.cast(correct_prediction, tf.float32))"
   ]
  },
  {
   "cell_type": "code",
   "execution_count": 7,
   "metadata": {},
   "outputs": [],
   "source": [
    "sess = tf.InteractiveSession()\n",
    "sess.run(tf.global_variables_initializer())\n",
    "saver = tf.train.Saver()\n",
    "i=0"
   ]
  },
  {
   "cell_type": "code",
   "execution_count": null,
   "metadata": {},
   "outputs": [],
   "source": [
    "for _ in range(20000):\n",
    "    i += 1\n",
    "    x_train, t_train = batch('train', 70)\n",
    "    sess.run(train_step, feed_dict={x:x_train, t:t_train, keep_prob:0.75})\n",
    "    if i%500 == 0:\n",
    "        x_test, t_test = batch('test', 70)\n",
    "        loss_val, acc_val = sess.run([loss, accuracy],\n",
    "                                     feed_dict={x:x_test,t:y_test,keep_prob:1.0})\n",
    "        print ('Step: %d, Loss: %f, Accuracy: %f' % (i, loss_val, acc_val))\n",
    "        saver.save(sess, 'cnn_session', global_step=i)"
   ]
  },
  {
   "cell_type": "code",
   "execution_count": null,
   "metadata": {},
   "outputs": [],
   "source": []
  }
 ],
 "metadata": {
  "kernelspec": {
   "display_name": "Python 3",
   "language": "python",
   "name": "python3"
  },
  "language_info": {
   "codemirror_mode": {
    "name": "ipython",
    "version": 3
   },
   "file_extension": ".py",
   "mimetype": "text/x-python",
   "name": "python",
   "nbconvert_exporter": "python",
   "pygments_lexer": "ipython3",
   "version": "3.6.5"
  }
 },
 "nbformat": 4,
 "nbformat_minor": 2
}

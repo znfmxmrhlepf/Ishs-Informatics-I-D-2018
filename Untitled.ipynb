{
 "cells": [
  {
   "cell_type": "code",
   "execution_count": null,
   "metadata": {},
   "outputs": [],
   "source": [
    "import tensorflow as tf\n",
    "import numpy as np\n",
    "import cv2\n",
    "import glob"
   ]
  },
  {
   "cell_type": "code",
   "execution_count": null,
   "metadata": {},
   "outputs": [],
   "source": [
    "path_train = glob.glob('/home/ind/Crosswalk_Image_copy/train/img/*.jpg')\n",
    "path_test = glob.glob('/home/ind/Crosswalk_Image_copy/test/img/*.jpg')\n",
    "x_train = \n",
    "\n",
    "def next_batch():\n",
    "    path = "
   ]
  },
  {
   "cell_type": "code",
   "execution_count": null,
   "metadata": {},
   "outputs": [],
   "source": [
    "x = tf.placeholder(tf.float32, [None, 90000])\n",
    "x_image = tf.reshape(x, [-1, 300, 300, 3])\n",
    "\n",
    "num_filters1 = 64\n",
    "\n",
    "with tf.variable_scope('conv1') as scope:\n",
    "    W_conv1 = tf.Variable(tf.truncated_normal([38, 38, 3, num_filters1], stddev=0.01))\n",
    "\n",
    "    h_conv1 = tf.nn.conv2d(x_image, W_conv1, strides=[1,1,1,1], padding='SAME')\n",
    "\n",
    "    b_conv1 = tf.Variable(tf.constant(0.1, shape = [num_filters1]))\n",
    "    h_conv1 = tf.nn.relu(h_conv1 + b_conv1)\n",
    "\n",
    "h_pool1 = tf.nn.max_pool(h_conv1_cutoff, ksize=[1,3,3,1], strides=[1,2,2,1], padding='SAME', name='pool1')\n",
    "norm1 = tf.nn.lrn(h_pool1, 4, bias=1.0, alpha=0.001 / 9.0, beta=0.75, name='norm1')\n",
    "\n",
    "num_filters2 = 128\n",
    "\n",
    "with tf.variable_scope('conv2') as scope:\n",
    "    W_conv2 = tf.Variable(tf.truncated_normal([14, 14, num_filters1, num_filters2], stddev=0.01))\n",
    "    \n",
    "    h_conv2 = tf.nn.conv2d(norm1, W_conv2, strides=[1,1,1,1], padding='SAME')\n",
    "    \n",
    "    b_conv2 = tf.Variable(tf.constant(0.1, shape=[num_filters2]))\n",
    "    h_conv2_cutoff = tf.nn.relu(h_conv2 + b_conv2)\n",
    "    \n",
    "norm2 = tf.nn.lrn(h_conv2_cutoff, 4, bias=1.0, alpha=0.001 / 9.0, beta=0.75, name='norm2')\n",
    "h_pool2 = tf.nn.max_pool(norm2, ksize=[1,3,3,1], strides=[1,2,2,1], padding='SAME', name='pool2')\n",
    "\n",
    "h_pool2_flat = tf.reshape(h_pool2, [-1, 16*16*num_filters2])\n",
    "\n",
    "num_units1 = 16*16*num_filters2\n",
    "num_units2 = 1024\n",
    "\n",
    "w2 = tf.Variable(tf.truncated_normal([num_units1, num_units2]))\n",
    "b2 = tf.Variable(tf.constant(0.1, shape=[num_units2]))\n",
    "hidden2 = tf.nn.relu(tf.matmul(h_pool2_flat, w2) + b2)\n",
    "\n",
    "keep_prob = tf.placeholder(tf.float32)\n",
    "hidden2_drop = tf.nn.dropout(hidden2, keep_prob)\n",
    "\n",
    "w0 = tf.Variable(tf.zeros([num_units2, 2]))\n",
    "b0 = tf.Variable(tf.zeros([2]))\n",
    "p = tf.nn.softmax(tf.matmul(hidden2_drop, w0) + b0)"
   ]
  },
  {
   "cell_type": "code",
   "execution_count": null,
   "metadata": {},
   "outputs": [],
   "source": [
    "t = tf.placeholder(tf.float32, [None, 2])\n",
    "loss = -tf.reduce_sum(t * tf.log(p))\n",
    "train_step = tf.train.AdamOptimizer(0.0001).minimize(loss)\n",
    "correct_prediction = tf.equal(tf.argmax(p, 1), tf.argmax(t, 1))\n",
    "accuracy = tf.reduce_mean(tf.cast(correct_prediction, tf.float32)"
   ]
  },
  {
   "cell_type": "code",
   "execution_count": null,
   "metadata": {},
   "outputs": [],
   "source": [
    "sess = tf.InteractiveSession()\n",
    "sess.run(tf.global_variables_initializer())"
   ]
  },
  {
   "cell_type": "code",
   "execution_count": null,
   "metadata": {},
   "outputs": [],
   "source": [
    "i = 0\n",
    "for _ in range(10000):\n",
    "    i += 1\n",
    "    batch_xs, batch_ts = "
   ]
  }
 ],
 "metadata": {
  "kernelspec": {
   "display_name": "Python 3",
   "language": "python",
   "name": "python3"
  },
  "language_info": {
   "codemirror_mode": {
    "name": "ipython",
    "version": 3
   },
   "file_extension": ".py",
   "mimetype": "text/x-python",
   "name": "python",
   "nbconvert_exporter": "python",
   "pygments_lexer": "ipython3",
   "version": "3.5.2"
  }
 },
 "nbformat": 4,
 "nbformat_minor": 2
}

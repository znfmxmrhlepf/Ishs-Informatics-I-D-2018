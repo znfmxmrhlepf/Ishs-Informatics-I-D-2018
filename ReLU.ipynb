{
 "cells": [
  {
   "cell_type": "code",
   "execution_count": 2,
   "metadata": {},
   "outputs": [],
   "source": [
    "import numpy as np\n",
    "\n",
    "class ReLU:\n",
    "    def __init__(self):\n",
    "        self.mask = None\n",
    "        \n",
    "    def forward(self, x):\n",
    "        self.mask = (x <= 0)\n",
    "        out = x.copy()\n",
    "        out[self.mask] = 0\n",
    "        \n",
    "        return out\n",
    "    \n",
    "    def backward(self, dout):\n",
    "        dout[self.mask] = 0;\n",
    "        dx = dout\n",
    "        \n",
    "        return dx        "
   ]
  },
  {
   "cell_type": "code",
   "execution_count": 5,
   "metadata": {},
   "outputs": [],
   "source": [
    "L = ReLU()\n",
    "y = L.forward(np.array([-1,3,2,3,5,6,4,5,3,-4,-3,3,-5,-3,-2,-2,23,-23,5,5,5,-45,-15,1]))"
   ]
  },
  {
   "cell_type": "code",
   "execution_count": 6,
   "metadata": {},
   "outputs": [
    {
     "data": {
      "text/plain": [
       "array([ 0,  3,  2,  3,  5,  6,  4,  5,  3,  0,  0,  3,  0,  0,  0,  0, 23,\n",
       "        0,  5,  5,  5,  0,  0,  1])"
      ]
     },
     "execution_count": 6,
     "metadata": {},
     "output_type": "execute_result"
    }
   ],
   "source": []
  },
  {
   "cell_type": "code",
   "execution_count": 9,
   "metadata": {},
   "outputs": [
    {
     "name": "stdout",
     "output_type": "stream",
     "text": [
      "[ 0.09923401 -0.10053118  0.2332149  -0.16137289  2.18732342  1.14509267\n",
      "  2.7579474   0.05379417 -1.20781564 -0.33661225 -0.74846535 -0.81993589\n",
      "  0.76786446 -0.13747729  0.26967657  1.89545498  3.01200895  0.42412439\n",
      " -0.15398614  0.72041216 -1.35088398  1.8296817  -1.01776704 -1.00480538]\n"
     ]
    },
    {
     "data": {
      "text/plain": [
       "array([ 0.        , -0.10053118,  0.2332149 , -0.16137289,  2.18732342,\n",
       "        1.14509267,  2.7579474 ,  0.05379417, -1.20781564,  0.        ,\n",
       "        0.        , -0.81993589,  0.        ,  0.        ,  0.        ,\n",
       "        0.        ,  3.01200895,  0.        , -0.15398614,  0.72041216,\n",
       "       -1.35088398,  0.        ,  0.        , -1.00480538])"
      ]
     },
     "execution_count": 9,
     "metadata": {},
     "output_type": "execute_result"
    }
   ],
   "source": [
    "dout = np.random.randn(24)\n",
    "print(dout)\n",
    "L.backward(dout)"
   ]
  },
  {
   "cell_type": "code",
   "execution_count": null,
   "metadata": {},
   "outputs": [],
   "source": []
  }
 ],
 "metadata": {
  "kernelspec": {
   "display_name": "Python 3",
   "language": "python",
   "name": "python3"
  },
  "language_info": {
   "codemirror_mode": {
    "name": "ipython",
    "version": 3
   },
   "file_extension": ".py",
   "mimetype": "text/x-python",
   "name": "python",
   "nbconvert_exporter": "python",
   "pygments_lexer": "ipython3",
   "version": "3.6.5"
  }
 },
 "nbformat": 4,
 "nbformat_minor": 2
}
